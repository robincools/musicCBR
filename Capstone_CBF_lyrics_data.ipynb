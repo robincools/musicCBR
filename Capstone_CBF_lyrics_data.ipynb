{
 "cells": [
  {
   "cell_type": "code",
   "execution_count": 1,
   "metadata": {
    "id": "Bktm-Lj7t9iL"
   },
   "outputs": [],
   "source": [
    "import pandas as pd\n",
    "import numpy as np\n",
    "import glob"
   ]
  },
  {
   "cell_type": "code",
   "execution_count": 2,
   "metadata": {
    "id": "eQ1yswbuQhFX"
   },
   "outputs": [
    {
     "name": "stdout",
     "output_type": "stream",
     "text": [
      "Requirement already satisfied: spotipy in /home/robin/anaconda3/lib/python3.8/site-packages (2.18.0)\n",
      "Requirement already satisfied: six>=1.15.0 in /home/robin/anaconda3/lib/python3.8/site-packages (from spotipy) (1.15.0)\n",
      "Requirement already satisfied: requests>=2.25.0 in /home/robin/anaconda3/lib/python3.8/site-packages (from spotipy) (2.25.1)\n",
      "Requirement already satisfied: urllib3>=1.26.0 in /home/robin/anaconda3/lib/python3.8/site-packages (from spotipy) (1.26.4)\n",
      "Requirement already satisfied: idna<3,>=2.5 in /home/robin/anaconda3/lib/python3.8/site-packages (from requests>=2.25.0->spotipy) (2.10)\n",
      "Requirement already satisfied: certifi>=2017.4.17 in /home/robin/anaconda3/lib/python3.8/site-packages (from requests>=2.25.0->spotipy) (2020.12.5)\n",
      "Requirement already satisfied: chardet<5,>=3.0.2 in /home/robin/anaconda3/lib/python3.8/site-packages (from requests>=2.25.0->spotipy) (4.0.0)\n",
      "Note: you may need to restart the kernel to use updated packages.\n"
     ]
    }
   ],
   "source": [
    "pip install spotipy"
   ]
  },
  {
   "cell_type": "code",
   "execution_count": 3,
   "metadata": {
    "id": "bw8kyy3yqxh-"
   },
   "outputs": [],
   "source": [
    "import spotipy\n",
    "from spotipy.oauth2 import SpotifyClientCredentials\n",
    "\n",
    "client_id = '34fd877d2ddb4305ab79222521608e23'\n",
    "client_secret = '038aac820f624a37b72bbd83480da3bd'\n",
    "\n",
    "client_credentials_manager = SpotifyClientCredentials(client_id=client_id, client_secret=client_secret)\n",
    "sp = spotipy.Spotify(client_credentials_manager=client_credentials_manager)"
   ]
  },
  {
   "cell_type": "code",
   "execution_count": null,
   "metadata": {
    "id": "SkHTyRxjq2jx"
   },
   "outputs": [],
   "source": [
    "''' path = 'musicCBR/datasets_raw/BigML_lyrics.csv.zip'\n",
    "data_lyrics = pd.read_csv(path)\n",
    "data_lyrics.dropna(inplace = True)\n",
    "data_lyrics.reset_index(drop=True,inplace=True) '''"
   ]
  },
  {
   "cell_type": "markdown",
   "metadata": {
    "id": "H6zwvpq1Qeqg"
   },
   "source": [
    "# Data wrangling "
   ]
  },
  {
   "cell_type": "code",
   "execution_count": null,
   "metadata": {
    "id": "8kUnUYnDqvdu"
   },
   "outputs": [],
   "source": [
    "def find_track_id_database(database):\n",
    "\n",
    "  \"\"\"\n",
    "  Function to find all the Spotify track ID's using the track name and artist of the lyrics dataset.\n",
    "  This function is quite slow and the Spotify API doens't allow to run the whole dataset at once.\n",
    "  Run this function multiple times over subsets of the data.\n",
    "  \"\"\"\n",
    "\n",
    "  song_ids = []\n",
    "  n = 1000\n",
    "  len_data = len(database)\n",
    "\n",
    "  for i in range(len(database)):\n",
    "\n",
    "    results = sp.search(q= 'track: {} artist: {}'.format(database['Song'][i], database['Band'][i]), limit=1)\n",
    "\n",
    "    if results['tracks']['items'] == []:\n",
    "      song_ids.append(np.nan)\n",
    "    else:\n",
    "      track_id = results['tracks']['items'][0]['id']\n",
    "      song_ids.append(track_id)\n",
    "\n",
    "    if i % n == 0:\n",
    "      print('{} of {} tracks'.format(i,len_data))\n",
    "    \n",
    "  database['id'] = song_ids\n",
    "  database.dropna(inplace = True)\n",
    "  database.reset_index(drop = True, inplace = True)\n",
    "\n",
    "  database.to_csv('musicCBR/data_wrangling_exploration/lyrics_id_subsets/data_lyrics_ids_30000.csv')\n",
    "\n",
    "  return database"
   ]
  },
  {
   "cell_type": "code",
   "execution_count": null,
   "metadata": {
    "id": "QmvTLA7TJHkk"
   },
   "outputs": [],
   "source": [
    "def data_lyrics_load():\n",
    "  \"\"\"\n",
    "  Load the multiple .csv files created by running find_track_id_database on subsets of the lyrics dataset.\n",
    "  Concatenate the files and output a concatenated dataframe with the track ID's and lyrics and a lookup table to link the ID's with the track names and artists.\n",
    "  \"\"\"\n",
    "\n",
    "  paths = glob.glob('musicCBR/data_wrangling_exploration/lyrics_id_subsets/*.csv')\n",
    "\n",
    "  dataframes = []\n",
    "  for i in range(len(paths)):\n",
    "    data = pd.read_csv(paths[i])\n",
    "    dataframes.append(data)\n",
    "\n",
    "  #concatenate seperate dataframes\n",
    "  data_lyrics = pd.concat(dataframes)\n",
    "  data_lyrics.drop_duplicates(subset='id', inplace=True)\n",
    "\n",
    "  # Create lookup table to link id's and track title/artist\n",
    "  id_lookup = data_lyrics[['Song','Band','id']]\n",
    "  id_lookup.reset_index(drop=True, inplace=True)\n",
    "\n",
    "  # Dataframe with song id's and lyrics\n",
    "  data_lyrics = data_lyrics[['id','Lyrics']]\n",
    "  data_lyrics.reset_index(drop=True, inplace=True)\n",
    "\n",
    "  return data_lyrics, id_lookup"
   ]
  },
  {
   "cell_type": "code",
   "execution_count": null,
   "metadata": {
    "id": "NOBWHPl_Q2Yw"
   },
   "outputs": [],
   "source": [
    "def get_audio_features(dataset):\n",
    "\n",
    "  \"\"\"\n",
    "  Function to get the Spotify audio features of a dataframe using the Spotify track ID's.\n",
    "  \"\"\"\n",
    "  dataframes = []\n",
    "  len_data = len(dataset)\n",
    "  n = 10000\n",
    "\n",
    "  for i in range(0, len(dataset), 100):\n",
    "    list_ids = list(dataset['id'][i:i+100].values)\n",
    "    audio_features = sp.audio_features(list_ids)\n",
    "    audio_features = [i for i in audio_features if i]\n",
    "\n",
    "    df_features = pd.DataFrame(audio_features)\n",
    "    df_features = df_features[['id','danceability','energy', 'loudness','speechiness','acousticness','instrumentalness','liveness','valence','tempo']]\n",
    "\n",
    "    dataframes.append(df_features)\n",
    "\n",
    "    if i % n == 0:\n",
    "      print('{} of {} tracks'.format(i,len_data))\n",
    "\n",
    "  data_lyrics_concat = pd.concat(dataframes)\n",
    "  data_lyrics_features = dataset.merge(data_lyrics_concat, how='inner', on='id')\n",
    "\n",
    "  data_lyrics_features.to_csv('musicCBR/data/data_lyrics_features.csv.zip')\n",
    "\n",
    "  return data_lyrics_features"
   ]
  },
  {
   "cell_type": "markdown",
   "metadata": {
    "id": "LLwZ8A4iQyQJ"
   },
   "source": [
    "# Data exploration"
   ]
  },
  {
   "cell_type": "code",
   "execution_count": 17,
   "metadata": {},
   "outputs": [],
   "source": [
    "import seaborn as sns\n",
    "import matplotlib.pyplot as plt"
   ]
  },
  {
   "cell_type": "code",
   "execution_count": 8,
   "metadata": {
    "id": "2QTHxhEBQdJs"
   },
   "outputs": [
    {
     "data": {
      "text/html": [
       "<div>\n",
       "<style scoped>\n",
       "    .dataframe tbody tr th:only-of-type {\n",
       "        vertical-align: middle;\n",
       "    }\n",
       "\n",
       "    .dataframe tbody tr th {\n",
       "        vertical-align: top;\n",
       "    }\n",
       "\n",
       "    .dataframe thead th {\n",
       "        text-align: right;\n",
       "    }\n",
       "</style>\n",
       "<table border=\"1\" class=\"dataframe\">\n",
       "  <thead>\n",
       "    <tr style=\"text-align: right;\">\n",
       "      <th></th>\n",
       "      <th>Unnamed: 0</th>\n",
       "      <th>id</th>\n",
       "      <th>Lyrics</th>\n",
       "      <th>danceability</th>\n",
       "      <th>energy</th>\n",
       "      <th>loudness</th>\n",
       "      <th>speechiness</th>\n",
       "      <th>acousticness</th>\n",
       "      <th>instrumentalness</th>\n",
       "      <th>liveness</th>\n",
       "      <th>valence</th>\n",
       "      <th>tempo</th>\n",
       "    </tr>\n",
       "  </thead>\n",
       "  <tbody>\n",
       "    <tr>\n",
       "      <th>0</th>\n",
       "      <td>0</td>\n",
       "      <td>2ne4ZuEhn35sGRftyI8jJP</td>\n",
       "      <td>No, no\\r\\nI ain't ever trapped out the bando\\r...</td>\n",
       "      <td>0.783</td>\n",
       "      <td>0.563</td>\n",
       "      <td>-8.613</td>\n",
       "      <td>0.2330</td>\n",
       "      <td>0.370000</td>\n",
       "      <td>0.000000</td>\n",
       "      <td>0.1090</td>\n",
       "      <td>0.634</td>\n",
       "      <td>114.897</td>\n",
       "    </tr>\n",
       "    <tr>\n",
       "      <th>1</th>\n",
       "      <td>1</td>\n",
       "      <td>6lHGPW1IW2w5rQ3FFqqmkx</td>\n",
       "      <td>The drinks go down and smoke goes up, I feel m...</td>\n",
       "      <td>0.781</td>\n",
       "      <td>0.571</td>\n",
       "      <td>-10.630</td>\n",
       "      <td>0.0723</td>\n",
       "      <td>0.065700</td>\n",
       "      <td>0.175000</td>\n",
       "      <td>0.1140</td>\n",
       "      <td>0.631</td>\n",
       "      <td>124.021</td>\n",
       "    </tr>\n",
       "    <tr>\n",
       "      <th>2</th>\n",
       "      <td>2</td>\n",
       "      <td>6QHWyeh90gahr79P36m7gQ</td>\n",
       "      <td>She don't live on planet Earth no more\\r\\nShe ...</td>\n",
       "      <td>0.705</td>\n",
       "      <td>0.764</td>\n",
       "      <td>-7.407</td>\n",
       "      <td>0.0862</td>\n",
       "      <td>0.016800</td>\n",
       "      <td>0.000036</td>\n",
       "      <td>0.1340</td>\n",
       "      <td>0.240</td>\n",
       "      <td>159.995</td>\n",
       "    </tr>\n",
       "    <tr>\n",
       "      <th>3</th>\n",
       "      <td>3</td>\n",
       "      <td>3mBEewFYvVpVIVAFnuECyR</td>\n",
       "      <td>Trippin' off that Grigio, mobbin', lights low\\...</td>\n",
       "      <td>0.404</td>\n",
       "      <td>0.523</td>\n",
       "      <td>-7.099</td>\n",
       "      <td>0.0485</td>\n",
       "      <td>0.644000</td>\n",
       "      <td>0.000004</td>\n",
       "      <td>0.1330</td>\n",
       "      <td>0.537</td>\n",
       "      <td>134.385</td>\n",
       "    </tr>\n",
       "    <tr>\n",
       "      <th>4</th>\n",
       "      <td>4</td>\n",
       "      <td>4PoGx0KVpaqVWxSF9j11O3</td>\n",
       "      <td>I see a midnight panther, so gallant and so br...</td>\n",
       "      <td>0.293</td>\n",
       "      <td>0.604</td>\n",
       "      <td>-8.742</td>\n",
       "      <td>0.0426</td>\n",
       "      <td>0.000607</td>\n",
       "      <td>0.000015</td>\n",
       "      <td>0.0877</td>\n",
       "      <td>0.375</td>\n",
       "      <td>79.946</td>\n",
       "    </tr>\n",
       "  </tbody>\n",
       "</table>\n",
       "</div>"
      ],
      "text/plain": [
       "   Unnamed: 0                      id  \\\n",
       "0           0  2ne4ZuEhn35sGRftyI8jJP   \n",
       "1           1  6lHGPW1IW2w5rQ3FFqqmkx   \n",
       "2           2  6QHWyeh90gahr79P36m7gQ   \n",
       "3           3  3mBEewFYvVpVIVAFnuECyR   \n",
       "4           4  4PoGx0KVpaqVWxSF9j11O3   \n",
       "\n",
       "                                              Lyrics  danceability  energy  \\\n",
       "0  No, no\\r\\nI ain't ever trapped out the bando\\r...         0.783   0.563   \n",
       "1  The drinks go down and smoke goes up, I feel m...         0.781   0.571   \n",
       "2  She don't live on planet Earth no more\\r\\nShe ...         0.705   0.764   \n",
       "3  Trippin' off that Grigio, mobbin', lights low\\...         0.404   0.523   \n",
       "4  I see a midnight panther, so gallant and so br...         0.293   0.604   \n",
       "\n",
       "   loudness  speechiness  acousticness  instrumentalness  liveness  valence  \\\n",
       "0    -8.613       0.2330      0.370000          0.000000    0.1090    0.634   \n",
       "1   -10.630       0.0723      0.065700          0.175000    0.1140    0.631   \n",
       "2    -7.407       0.0862      0.016800          0.000036    0.1340    0.240   \n",
       "3    -7.099       0.0485      0.644000          0.000004    0.1330    0.537   \n",
       "4    -8.742       0.0426      0.000607          0.000015    0.0877    0.375   \n",
       "\n",
       "     tempo  \n",
       "0  114.897  \n",
       "1  124.021  \n",
       "2  159.995  \n",
       "3  134.385  \n",
       "4   79.946  "
      ]
     },
     "execution_count": 8,
     "metadata": {},
     "output_type": "execute_result"
    }
   ],
   "source": [
    "path = '/home/robin/git_projects/musicCBR/data/data_lyrics_features.csv.zip'\n",
    "data = pd.read_csv(path, )\n",
    "data.head()"
   ]
  },
  {
   "cell_type": "code",
   "execution_count": 18,
   "metadata": {},
   "outputs": [
    {
     "name": "stderr",
     "output_type": "stream",
     "text": [
      "<ipython-input-18-54f4d5913751>:3: DeprecationWarning: `np.bool` is a deprecated alias for the builtin `bool`. To silence this warning, use `bool` by itself. Doing this will not modify any behavior and is safe. If you specifically wanted the numpy scalar type, use `np.bool_` here.\n",
      "Deprecated in NumPy 1.20; for more details and guidance: https://numpy.org/devdocs/release/1.20.0-notes.html#deprecations\n",
      "  mask = np.triu(np.ones_like(data.drop(['id','Lyrics'],axis=1).corr(), dtype=np.bool))\n"
     ]
    },
    {
     "data": {
      "image/png": "[encoded data removed]",
      "text/plain": [
       "<Figure size 1152x432 with 2 Axes>"
      ]
     },
     "metadata": {
      "needs_background": "light"
     },
     "output_type": "display_data"
    }
   ],
   "source": [
    "plt.figure(figsize=(16, 6))\n",
    "\n",
    "mask = np.triu(np.ones_like(data.drop(['id','Lyrics'],axis=1).corr(), dtype=np.bool))\n",
    "heatmap = sns.heatmap(data.drop(['id','Lyrics'],axis=1).corr(), mask=mask, vmin=-1, vmax=1, annot=True, cmap='BrBG')"
   ]
  },
  {
   "cell_type": "code",
   "execution_count": null,
   "metadata": {},
   "outputs": [],
   "source": []
  }
 ],
 "metadata": {
  "colab": {
   "authorship_tag": "ABX9TyO6mnPYkHeFoJvzzEA/kv90",
   "collapsed_sections": [],
   "machine_shape": "hm",
   "mount_file_id": "1qxdlSmD2PpakTpezt7X-gc_-XZk42mMr",
   "name": "Capstone_CBF_lyrics_data.ipynb",
   "provenance": []
  },
  "kernelspec": {
   "display_name": "Python 3",
   "language": "python",
   "name": "python3"
  },
  "language_info": {
   "codemirror_mode": {
    "name": "ipython",
    "version": 3
   },
   "file_extension": ".py",
   "mimetype": "text/x-python",
   "name": "python",
   "nbconvert_exporter": "python",
   "pygments_lexer": "ipython3",
   "version": "3.8.8"
  }
 },
 "nbformat": 4,
 "nbformat_minor": 1
}
