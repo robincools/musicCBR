{
 "cells": [
  {
   "cell_type": "code",
   "execution_count": 1,
   "metadata": {
    "id": "Bktm-Lj7t9iL"
   },
   "outputs": [],
   "source": [
    "import pandas as pd\n",
    "import numpy as np\n",
    "import glob"
   ]
  },
  {
   "cell_type": "code",
   "execution_count": 2,
   "metadata": {
    "id": "eQ1yswbuQhFX"
   },
   "outputs": [
    {
     "name": "stdout",
     "output_type": "stream",
     "text": [
      "Requirement already satisfied: spotipy in /home/robin/anaconda3/lib/python3.8/site-packages (2.18.0)\n",
      "Requirement already satisfied: six>=1.15.0 in /home/robin/anaconda3/lib/python3.8/site-packages (from spotipy) (1.15.0)\n",
      "Requirement already satisfied: requests>=2.25.0 in /home/robin/anaconda3/lib/python3.8/site-packages (from spotipy) (2.25.1)\n",
      "Requirement already satisfied: urllib3>=1.26.0 in /home/robin/anaconda3/lib/python3.8/site-packages (from spotipy) (1.26.4)\n",
      "Requirement already satisfied: idna<3,>=2.5 in /home/robin/anaconda3/lib/python3.8/site-packages (from requests>=2.25.0->spotipy) (2.10)\n",
      "Requirement already satisfied: certifi>=2017.4.17 in /home/robin/anaconda3/lib/python3.8/site-packages (from requests>=2.25.0->spotipy) (2020.12.5)\n",
      "Requirement already satisfied: chardet<5,>=3.0.2 in /home/robin/anaconda3/lib/python3.8/site-packages (from requests>=2.25.0->spotipy) (4.0.0)\n",
      "Note: you may need to restart the kernel to use updated packages.\n"
     ]
    }
   ],
   "source": [
    "pip install spotipy"
   ]
  },
  {
   "cell_type": "code",
   "execution_count": 3,
   "metadata": {
    "id": "bw8kyy3yqxh-"
   },
   "outputs": [],
   "source": [
    "import spotipy\n",
    "from spotipy.oauth2 import SpotifyClientCredentials\n",
    "\n",
    "client_id = '34fd877d2ddb4305ab79222521608e23'\n",
    "client_secret = '038aac820f624a37b72bbd83480da3bd'\n",
    "\n",
    "client_credentials_manager = SpotifyClientCredentials(client_id=client_id, client_secret=client_secret)\n",
    "sp = spotipy.Spotify(client_credentials_manager=client_credentials_manager)"
   ]
  },
  {
   "cell_type": "code",
   "execution_count": null,
   "metadata": {
    "id": "SkHTyRxjq2jx"
   },
   "outputs": [],
   "source": [
    "''' path = '/content/drive/MyDrive/Springboard/Capstone/BigML_Dataset_60ed7ff5e4279b24a20060d3.csv'\n",
    "data_lyrics = pd.read_csv(path)\n",
    "data_lyrics.dropna(inplace = True)\n",
    "data_lyrics.reset_index(drop=True,inplace=True) '''"
   ]
  },
  {
   "cell_type": "markdown",
   "metadata": {
    "id": "H6zwvpq1Qeqg"
   },
   "source": [
    "# Data wrangling "
   ]
  },
  {
   "cell_type": "code",
   "execution_count": null,
   "metadata": {
    "id": "8kUnUYnDqvdu"
   },
   "outputs": [],
   "source": [
    "def find_track_id_database(database):\n",
    "\n",
    "  \"\"\"\n",
    "  Function to find all the Spotify track ID's using the track name and artist of the lyrics dataset.\n",
    "  This function is quite slow and the Spotify API doens't allow to run the whole dataset at once.\n",
    "  Run this function multiple times over subsets of the data.\n",
    "  \"\"\"\n",
    "\n",
    "  song_ids = []\n",
    "  n = 1000\n",
    "  len_data = len(database)\n",
    "\n",
    "  for i in range(len(database)):\n",
    "\n",
    "    results = sp.search(q= 'track: {} artist: {}'.format(database['Song'][i], database['Band'][i]), limit=1)\n",
    "\n",
    "    if results['tracks']['items'] == []:\n",
    "      song_ids.append(np.nan)\n",
    "    else:\n",
    "      track_id = results['tracks']['items'][0]['id']\n",
    "      song_ids.append(track_id)\n",
    "\n",
    "    if i % n == 0:\n",
    "      print('{} of {} tracks'.format(i,len_data))\n",
    "    \n",
    "  database['id'] = song_ids\n",
    "  database.dropna(inplace = True)\n",
    "  database.reset_index(drop = True, inplace = True)\n",
    "\n",
    "  database.to_csv('musicCBR/data_wrangling_exploration/lyrics_id_subsets/data_lyrics_ids_30000.csv')\n",
    "\n",
    "  return database"
   ]
  },
  {
   "cell_type": "code",
   "execution_count": null,
   "metadata": {
    "id": "QmvTLA7TJHkk"
   },
   "outputs": [],
   "source": [
    "def data_lyrics_load():\n",
    "  \"\"\"\n",
    "  Load the multiple .csv files created by running find_track_id_database on subsets of the lyrics dataset.\n",
    "  Concatenate the files and output a concatenated dataframe with the track ID's and lyrics and a lookup table to link the ID's with the track names and artists.\n",
    "  \"\"\"\n",
    "\n",
    "  paths = glob.glob('musicCBR/data_wrangling_exploration/lyrics_id_subsets/*.csv')\n",
    "\n",
    "  dataframes = []\n",
    "  for i in range(len(paths)):\n",
    "    data = pd.read_csv(paths[i])\n",
    "    dataframes.append(data)\n",
    "\n",
    "  #concatenate seperate dataframes\n",
    "  data_lyrics = pd.concat(dataframes)\n",
    "  data_lyrics.drop_duplicates(subset='id', inplace=True)\n",
    "\n",
    "  # Create lookup table to link id's and track title/artist\n",
    "  id_lookup = data_lyrics[['Song','Band','id']]\n",
    "  id_lookup.reset_index(drop=True, inplace=True)\n",
    "\n",
    "  # Dataframe with song id's and lyrics\n",
    "  data_lyrics = data_lyrics[['id','Lyrics']]\n",
    "  data_lyrics.reset_index(drop=True, inplace=True)\n",
    "\n",
    "  return data_lyrics, id_lookup"
   ]
  },
  {
   "cell_type": "code",
   "execution_count": null,
   "metadata": {
    "id": "NOBWHPl_Q2Yw"
   },
   "outputs": [],
   "source": [
    "def get_audio_features(dataset):\n",
    "\n",
    "  \"\"\"\n",
    "  Function to get the Spotify audio features of a dataframe using the Spotify track ID's.\n",
    "  \"\"\"\n",
    "  dataframes = []\n",
    "  len_data = len(dataset)\n",
    "  n = 10000\n",
    "\n",
    "  for i in range(0, len(dataset), 100):\n",
    "    list_ids = list(dataset['id'][i:i+100].values)\n",
    "    audio_features = sp.audio_features(list_ids)\n",
    "    audio_features = [i for i in audio_features if i]\n",
    "\n",
    "    df_features = pd.DataFrame(audio_features)\n",
    "    df_features = df_features[['id','danceability','energy', 'loudness','speechiness','acousticness','instrumentalness','liveness','valence','tempo']]\n",
    "\n",
    "    dataframes.append(df_features)\n",
    "\n",
    "    if i % n == 0:\n",
    "      print('{} of {} tracks'.format(i,len_data))\n",
    "\n",
    "  data_lyrics_concat = pd.concat(dataframes)\n",
    "  data_lyrics_features = dataset.merge(data_lyrics_concat, how='inner', on='id')\n",
    "\n",
    "  data_lyrics_features.to_csv('musicCBR/data/data_lyrics_features.csv.zip')\n",
    "\n",
    "  return data_lyrics_features"
   ]
  },
  {
   "cell_type": "markdown",
   "metadata": {
    "id": "LLwZ8A4iQyQJ"
   },
   "source": [
    "# Data exploration"
   ]
  },
  {
   "cell_type": "code",
   "execution_count": null,
   "metadata": {
    "id": "2QTHxhEBQdJs"
   },
   "outputs": [],
   "source": [
    "path = 'musicCBR/data/data_lyrics_features.csv.zip'\n"
   ]
  }
 ],
 "metadata": {
  "colab": {
   "authorship_tag": "ABX9TyO6mnPYkHeFoJvzzEA/kv90",
   "collapsed_sections": [],
   "machine_shape": "hm",
   "mount_file_id": "1qxdlSmD2PpakTpezt7X-gc_-XZk42mMr",
   "name": "Capstone_CBF_lyrics_data.ipynb",
   "provenance": []
  },
  "kernelspec": {
   "display_name": "Python 3",
   "language": "python",
   "name": "python3"
  },
  "language_info": {
   "codemirror_mode": {
    "name": "ipython",
    "version": 3
   },
   "file_extension": ".py",
   "mimetype": "text/x-python",
   "name": "python",
   "nbconvert_exporter": "python",
   "pygments_lexer": "ipython3",
   "version": "3.8.8"
  }
 },
 "nbformat": 4,
 "nbformat_minor": 1
}
