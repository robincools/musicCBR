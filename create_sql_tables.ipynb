{
 "cells": [
  {
   "cell_type": "markdown",
   "source": [
    "Notebook to create MySQL database from .csv file"
   ],
   "metadata": {}
  },
  {
   "cell_type": "code",
   "execution_count": 16,
   "source": [
    "import pandas as pd \n",
    "import mysql.connector as mysql\n",
    "from mysql.connector import Error\n",
    "\n",
    "path = 'data/data_lyrics_features.csv.zip'\n",
    "data = pd.read_csv(path, index_col = 0)\n",
    "\n",
    "path = 'data/id_lookup.csv.zip'\n",
    "lookup_table = pd.read_csv(path, index_col=0)"
   ],
   "outputs": [],
   "metadata": {}
  },
  {
   "cell_type": "code",
   "execution_count": 11,
   "source": [
    "data.head()"
   ],
   "outputs": [
    {
     "output_type": "execute_result",
     "data": {
      "text/plain": [
       "                       id                                             Lyrics  \\\n",
       "0  2ne4ZuEhn35sGRftyI8jJP  No, no\\r\\nI ain't ever trapped out the bando\\r...   \n",
       "1  6lHGPW1IW2w5rQ3FFqqmkx  The drinks go down and smoke goes up, I feel m...   \n",
       "2  6QHWyeh90gahr79P36m7gQ  She don't live on planet Earth no more\\r\\nShe ...   \n",
       "3  3mBEewFYvVpVIVAFnuECyR  Trippin' off that Grigio, mobbin', lights low\\...   \n",
       "4  4PoGx0KVpaqVWxSF9j11O3  I see a midnight panther, so gallant and so br...   \n",
       "\n",
       "   danceability  energy  loudness  speechiness  acousticness  \\\n",
       "0         0.783   0.563    -8.613       0.2330      0.370000   \n",
       "1         0.781   0.571   -10.630       0.0723      0.065700   \n",
       "2         0.705   0.764    -7.407       0.0862      0.016800   \n",
       "3         0.404   0.523    -7.099       0.0485      0.644000   \n",
       "4         0.293   0.604    -8.742       0.0426      0.000607   \n",
       "\n",
       "   instrumentalness  liveness  valence    tempo  \n",
       "0          0.000000    0.1090    0.634  114.897  \n",
       "1          0.175000    0.1140    0.631  124.021  \n",
       "2          0.000036    0.1340    0.240  159.995  \n",
       "3          0.000004    0.1330    0.537  134.385  \n",
       "4          0.000015    0.0877    0.375   79.946  "
      ],
      "text/html": [
       "<div>\n",
       "<style scoped>\n",
       "    .dataframe tbody tr th:only-of-type {\n",
       "        vertical-align: middle;\n",
       "    }\n",
       "\n",
       "    .dataframe tbody tr th {\n",
       "        vertical-align: top;\n",
       "    }\n",
       "\n",
       "    .dataframe thead th {\n",
       "        text-align: right;\n",
       "    }\n",
       "</style>\n",
       "<table border=\"1\" class=\"dataframe\">\n",
       "  <thead>\n",
       "    <tr style=\"text-align: right;\">\n",
       "      <th></th>\n",
       "      <th>id</th>\n",
       "      <th>Lyrics</th>\n",
       "      <th>danceability</th>\n",
       "      <th>energy</th>\n",
       "      <th>loudness</th>\n",
       "      <th>speechiness</th>\n",
       "      <th>acousticness</th>\n",
       "      <th>instrumentalness</th>\n",
       "      <th>liveness</th>\n",
       "      <th>valence</th>\n",
       "      <th>tempo</th>\n",
       "    </tr>\n",
       "  </thead>\n",
       "  <tbody>\n",
       "    <tr>\n",
       "      <th>0</th>\n",
       "      <td>2ne4ZuEhn35sGRftyI8jJP</td>\n",
       "      <td>No, no\\r\\nI ain't ever trapped out the bando\\r...</td>\n",
       "      <td>0.783</td>\n",
       "      <td>0.563</td>\n",
       "      <td>-8.613</td>\n",
       "      <td>0.2330</td>\n",
       "      <td>0.370000</td>\n",
       "      <td>0.000000</td>\n",
       "      <td>0.1090</td>\n",
       "      <td>0.634</td>\n",
       "      <td>114.897</td>\n",
       "    </tr>\n",
       "    <tr>\n",
       "      <th>1</th>\n",
       "      <td>6lHGPW1IW2w5rQ3FFqqmkx</td>\n",
       "      <td>The drinks go down and smoke goes up, I feel m...</td>\n",
       "      <td>0.781</td>\n",
       "      <td>0.571</td>\n",
       "      <td>-10.630</td>\n",
       "      <td>0.0723</td>\n",
       "      <td>0.065700</td>\n",
       "      <td>0.175000</td>\n",
       "      <td>0.1140</td>\n",
       "      <td>0.631</td>\n",
       "      <td>124.021</td>\n",
       "    </tr>\n",
       "    <tr>\n",
       "      <th>2</th>\n",
       "      <td>6QHWyeh90gahr79P36m7gQ</td>\n",
       "      <td>She don't live on planet Earth no more\\r\\nShe ...</td>\n",
       "      <td>0.705</td>\n",
       "      <td>0.764</td>\n",
       "      <td>-7.407</td>\n",
       "      <td>0.0862</td>\n",
       "      <td>0.016800</td>\n",
       "      <td>0.000036</td>\n",
       "      <td>0.1340</td>\n",
       "      <td>0.240</td>\n",
       "      <td>159.995</td>\n",
       "    </tr>\n",
       "    <tr>\n",
       "      <th>3</th>\n",
       "      <td>3mBEewFYvVpVIVAFnuECyR</td>\n",
       "      <td>Trippin' off that Grigio, mobbin', lights low\\...</td>\n",
       "      <td>0.404</td>\n",
       "      <td>0.523</td>\n",
       "      <td>-7.099</td>\n",
       "      <td>0.0485</td>\n",
       "      <td>0.644000</td>\n",
       "      <td>0.000004</td>\n",
       "      <td>0.1330</td>\n",
       "      <td>0.537</td>\n",
       "      <td>134.385</td>\n",
       "    </tr>\n",
       "    <tr>\n",
       "      <th>4</th>\n",
       "      <td>4PoGx0KVpaqVWxSF9j11O3</td>\n",
       "      <td>I see a midnight panther, so gallant and so br...</td>\n",
       "      <td>0.293</td>\n",
       "      <td>0.604</td>\n",
       "      <td>-8.742</td>\n",
       "      <td>0.0426</td>\n",
       "      <td>0.000607</td>\n",
       "      <td>0.000015</td>\n",
       "      <td>0.0877</td>\n",
       "      <td>0.375</td>\n",
       "      <td>79.946</td>\n",
       "    </tr>\n",
       "  </tbody>\n",
       "</table>\n",
       "</div>"
      ]
     },
     "metadata": {},
     "execution_count": 11
    }
   ],
   "metadata": {}
  },
  {
   "cell_type": "markdown",
   "source": [
    "Connect to MySQL and create database"
   ],
   "metadata": {}
  },
  {
   "cell_type": "code",
   "execution_count": 12,
   "source": [
    "try:\n",
    "    conn = mysql.connect(host='localhost', \n",
    "                        user='robin',  \n",
    "                        password='')\n",
    "    \n",
    "    if conn.is_connected():\n",
    "        cursor = conn.cursor()\n",
    "        cursor.execute(\"CREATE DATABASE data_musiccbr\")\n",
    "        print(\"Database is created\")\n",
    "        \n",
    "except Error as e:\n",
    "    print(\"Error while connecting to MySQL\", e)"
   ],
   "outputs": [
    {
     "output_type": "stream",
     "name": "stdout",
     "text": [
      "Error while connecting to MySQL 1007 (HY000): Can't create database 'data_musiccbr'; database exists\n"
     ]
    }
   ],
   "metadata": {}
  },
  {
   "cell_type": "markdown",
   "source": [
    "Create song_data table and add data from csv file"
   ],
   "metadata": {}
  },
  {
   "cell_type": "code",
   "execution_count": 13,
   "source": [
    "try:\n",
    "    conn = mysql.connect(host='localhost', database='data_musiccbr', user='robin', password='')\n",
    "    if conn.is_connected():\n",
    "        cursor = conn.cursor()\n",
    "        cursor.execute(\"select database();\")\n",
    "        record = cursor.fetchone()\n",
    "        print(\"You're connected to database: \", record)\n",
    "        cursor.execute('DROP TABLE IF EXISTS song_data;')\n",
    "        cursor.execute(\"CREATE TABLE song_data(id CHAR(22), lyrics LONGTEXT, danceability FLOAT(10), energy FLOAT(10), loudness FLOAT(10), speechiness FLOAT(10), acousticness FLOAT(10), intrumentalness FLOAT(10), liveness FLOAT(10), valence FLOAT(10), tempo FLOAT(10))\")\n",
    "        print(\"Table is created....\")\n",
    "        #loop through the data frame\n",
    "        for i,row in data.iterrows():\n",
    "            sql = \"INSERT INTO data_musiccbr.song_data VALUES (%s,%s,%s,%s,%s,%s,%s,%s,%s,%s,%s)\"\n",
    "            cursor.execute(sql, tuple(row))\n",
    "            conn.commit()\n",
    "        \n",
    "except Error as e:\n",
    "            print(\"Error while connecting to MySQL\", e)"
   ],
   "outputs": [
    {
     "output_type": "stream",
     "name": "stdout",
     "text": [
      "You're connected to database:  ('data_musiccbr',)\n",
      "Table is created....\n"
     ]
    }
   ],
   "metadata": {}
  },
  {
   "cell_type": "markdown",
   "source": [
    "Create lookup_table and add data from csv file"
   ],
   "metadata": {}
  },
  {
   "cell_type": "code",
   "execution_count": 17,
   "source": [
    "lookup_table.head()"
   ],
   "outputs": [
    {
     "output_type": "execute_result",
     "data": {
      "text/plain": [
       "                 Song          Band                      id\n",
       "0            Everyday  Elijah Blake  2ne4ZuEhn35sGRftyI8jJP\n",
       "1    Live Till We Die  Elijah Blake  6lHGPW1IW2w5rQ3FFqqmkx\n",
       "2       The Otherside  Elijah Blake  6QHWyeh90gahr79P36m7gQ\n",
       "3               Pinot  Elijah Blake  3mBEewFYvVpVIVAFnuECyR\n",
       "4  Shadows & Diamonds  Elijah Blake  4PoGx0KVpaqVWxSF9j11O3"
      ],
      "text/html": [
       "<div>\n",
       "<style scoped>\n",
       "    .dataframe tbody tr th:only-of-type {\n",
       "        vertical-align: middle;\n",
       "    }\n",
       "\n",
       "    .dataframe tbody tr th {\n",
       "        vertical-align: top;\n",
       "    }\n",
       "\n",
       "    .dataframe thead th {\n",
       "        text-align: right;\n",
       "    }\n",
       "</style>\n",
       "<table border=\"1\" class=\"dataframe\">\n",
       "  <thead>\n",
       "    <tr style=\"text-align: right;\">\n",
       "      <th></th>\n",
       "      <th>Song</th>\n",
       "      <th>Band</th>\n",
       "      <th>id</th>\n",
       "    </tr>\n",
       "  </thead>\n",
       "  <tbody>\n",
       "    <tr>\n",
       "      <th>0</th>\n",
       "      <td>Everyday</td>\n",
       "      <td>Elijah Blake</td>\n",
       "      <td>2ne4ZuEhn35sGRftyI8jJP</td>\n",
       "    </tr>\n",
       "    <tr>\n",
       "      <th>1</th>\n",
       "      <td>Live Till We Die</td>\n",
       "      <td>Elijah Blake</td>\n",
       "      <td>6lHGPW1IW2w5rQ3FFqqmkx</td>\n",
       "    </tr>\n",
       "    <tr>\n",
       "      <th>2</th>\n",
       "      <td>The Otherside</td>\n",
       "      <td>Elijah Blake</td>\n",
       "      <td>6QHWyeh90gahr79P36m7gQ</td>\n",
       "    </tr>\n",
       "    <tr>\n",
       "      <th>3</th>\n",
       "      <td>Pinot</td>\n",
       "      <td>Elijah Blake</td>\n",
       "      <td>3mBEewFYvVpVIVAFnuECyR</td>\n",
       "    </tr>\n",
       "    <tr>\n",
       "      <th>4</th>\n",
       "      <td>Shadows &amp; Diamonds</td>\n",
       "      <td>Elijah Blake</td>\n",
       "      <td>4PoGx0KVpaqVWxSF9j11O3</td>\n",
       "    </tr>\n",
       "  </tbody>\n",
       "</table>\n",
       "</div>"
      ]
     },
     "metadata": {},
     "execution_count": 17
    }
   ],
   "metadata": {}
  },
  {
   "cell_type": "code",
   "execution_count": 18,
   "source": [
    "try:\n",
    "    conn = mysql.connect(host='localhost', database='data_musiccbr', user='robin', password='')\n",
    "    if conn.is_connected():\n",
    "        cursor = conn.cursor()\n",
    "        cursor.execute(\"select database();\")\n",
    "        record = cursor.fetchone()\n",
    "        print(\"You're connected to database: \", record)\n",
    "        cursor.execute('DROP TABLE IF EXISTS lookup_table;')\n",
    "        cursor.execute(\"CREATE TABLE lookup_table(Song TEXT(10000), Band TEXT(10000), id CHAR(22))\")\n",
    "        print(\"Table is created....\")\n",
    "        #loop through the data frame\n",
    "        for i,row in lookup_table.iterrows():\n",
    "            sql = \"INSERT INTO data_musiccbr.lookup_table VALUES (%s,%s,%s)\"\n",
    "            cursor.execute(sql, tuple(row))\n",
    "            conn.commit()\n",
    "        \n",
    "except Error as e:\n",
    "            print(\"Error while connecting to MySQL\", e)"
   ],
   "outputs": [
    {
     "output_type": "stream",
     "name": "stdout",
     "text": [
      "You're connected to database:  ('data_musiccbr',)\n",
      "Table is created....\n"
     ]
    }
   ],
   "metadata": {}
  }
 ],
 "metadata": {
  "orig_nbformat": 4,
  "language_info": {
   "name": "python",
   "version": "3.8.10",
   "mimetype": "text/x-python",
   "codemirror_mode": {
    "name": "ipython",
    "version": 3
   },
   "pygments_lexer": "ipython3",
   "nbconvert_exporter": "python",
   "file_extension": ".py"
  },
  "kernelspec": {
   "name": "python3",
   "display_name": "Python 3.8.10 64-bit ('capstone': conda)"
  },
  "interpreter": {
   "hash": "7eee79cf5bc1d8fd0993e0d94ec5e37b4f2fac704e5731899c30c7f9532b375b"
  }
 },
 "nbformat": 4,
 "nbformat_minor": 2
}